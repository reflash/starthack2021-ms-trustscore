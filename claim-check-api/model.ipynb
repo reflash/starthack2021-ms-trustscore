{
 "cells": [
  {
   "cell_type": "code",
   "execution_count": 18,
   "id": "solved-space",
   "metadata": {},
   "outputs": [
    {
     "name": "stdout",
     "output_type": "stream",
     "text": [
      "Requirement already satisfied: pandas in /usr/local/lib/python3.9/site-packages (1.2.3)\n",
      "Requirement already satisfied: python-dateutil>=2.7.3 in /usr/local/lib/python3.9/site-packages (from pandas) (2.8.1)\n",
      "Requirement already satisfied: pytz>=2017.3 in /usr/local/lib/python3.9/site-packages (from pandas) (2021.1)\n",
      "Requirement already satisfied: numpy>=1.16.5 in /usr/local/lib/python3.9/site-packages (from pandas) (1.20.1)\n",
      "Requirement already satisfied: six>=1.5 in /usr/local/lib/python3.9/site-packages (from python-dateutil>=2.7.3->pandas) (1.15.0)\n",
      "\u001b[33mWARNING: You are using pip version 20.3.3; however, version 21.0.1 is available.\n",
      "You should consider upgrading via the '/usr/local/opt/python@3.9/bin/python3.9 -m pip install --upgrade pip' command.\u001b[0m\n",
      "Requirement already satisfied: ipywidgets in /usr/local/lib/python3.9/site-packages (7.6.3)\n",
      "Requirement already satisfied: jupyterlab-widgets>=1.0.0 in /usr/local/lib/python3.9/site-packages (from ipywidgets) (1.0.0)\n",
      "Requirement already satisfied: nbformat>=4.2.0 in /usr/local/lib/python3.9/site-packages (from ipywidgets) (5.1.2)\n",
      "Requirement already satisfied: ipython>=4.0.0 in /usr/local/lib/python3.9/site-packages (from ipywidgets) (7.21.0)\n",
      "Requirement already satisfied: traitlets>=4.3.1 in /usr/local/lib/python3.9/site-packages (from ipywidgets) (5.0.5)\n",
      "Requirement already satisfied: ipykernel>=4.5.1 in /usr/local/lib/python3.9/site-packages (from ipywidgets) (5.5.0)\n",
      "Requirement already satisfied: widgetsnbextension~=3.5.0 in /usr/local/lib/python3.9/site-packages (from ipywidgets) (3.5.1)\n",
      "Requirement already satisfied: tornado>=4.2 in /usr/local/lib/python3.9/site-packages (from ipykernel>=4.5.1->ipywidgets) (6.1)\n",
      "Requirement already satisfied: jupyter-client in /usr/local/lib/python3.9/site-packages (from ipykernel>=4.5.1->ipywidgets) (6.1.12)\n",
      "Requirement already satisfied: appnope in /usr/local/lib/python3.9/site-packages (from ipykernel>=4.5.1->ipywidgets) (0.1.2)\n",
      "Requirement already satisfied: pickleshare in /usr/local/lib/python3.9/site-packages (from ipython>=4.0.0->ipywidgets) (0.7.5)\n",
      "Requirement already satisfied: setuptools>=18.5 in /usr/local/lib/python3.9/site-packages (from ipython>=4.0.0->ipywidgets) (51.1.1)\n",
      "Requirement already satisfied: pexpect>4.3 in /usr/local/lib/python3.9/site-packages (from ipython>=4.0.0->ipywidgets) (4.8.0)\n",
      "Requirement already satisfied: backcall in /usr/local/lib/python3.9/site-packages (from ipython>=4.0.0->ipywidgets) (0.2.0)\n",
      "Requirement already satisfied: prompt-toolkit!=3.0.0,!=3.0.1,<3.1.0,>=2.0.0 in /usr/local/lib/python3.9/site-packages (from ipython>=4.0.0->ipywidgets) (3.0.17)\n",
      "Requirement already satisfied: jedi>=0.16 in /usr/local/lib/python3.9/site-packages (from ipython>=4.0.0->ipywidgets) (0.18.0)\n",
      "Requirement already satisfied: decorator in /usr/local/lib/python3.9/site-packages (from ipython>=4.0.0->ipywidgets) (4.4.2)\n",
      "Requirement already satisfied: pygments in /usr/local/lib/python3.9/site-packages (from ipython>=4.0.0->ipywidgets) (2.8.1)\n",
      "Requirement already satisfied: parso<0.9.0,>=0.8.0 in /usr/local/lib/python3.9/site-packages (from jedi>=0.16->ipython>=4.0.0->ipywidgets) (0.8.1)\n",
      "Requirement already satisfied: ipython-genutils in /usr/local/lib/python3.9/site-packages (from nbformat>=4.2.0->ipywidgets) (0.2.0)\n",
      "Requirement already satisfied: jupyter-core in /usr/local/lib/python3.9/site-packages (from nbformat>=4.2.0->ipywidgets) (4.7.1)\n",
      "Requirement already satisfied: jsonschema!=2.5.0,>=2.4 in /usr/local/lib/python3.9/site-packages (from nbformat>=4.2.0->ipywidgets) (3.2.0)\n",
      "Requirement already satisfied: attrs>=17.4.0 in /usr/local/lib/python3.9/site-packages (from jsonschema!=2.5.0,>=2.4->nbformat>=4.2.0->ipywidgets) (20.3.0)\n",
      "Requirement already satisfied: six>=1.11.0 in /usr/local/lib/python3.9/site-packages (from jsonschema!=2.5.0,>=2.4->nbformat>=4.2.0->ipywidgets) (1.15.0)\n",
      "Requirement already satisfied: pyrsistent>=0.14.0 in /usr/local/lib/python3.9/site-packages (from jsonschema!=2.5.0,>=2.4->nbformat>=4.2.0->ipywidgets) (0.17.3)\n",
      "Requirement already satisfied: ptyprocess>=0.5 in /usr/local/lib/python3.9/site-packages (from pexpect>4.3->ipython>=4.0.0->ipywidgets) (0.7.0)\n",
      "Requirement already satisfied: wcwidth in /usr/local/lib/python3.9/site-packages (from prompt-toolkit!=3.0.0,!=3.0.1,<3.1.0,>=2.0.0->ipython>=4.0.0->ipywidgets) (0.2.5)\n",
      "Requirement already satisfied: notebook>=4.4.1 in /usr/local/lib/python3.9/site-packages (from widgetsnbextension~=3.5.0->ipywidgets) (6.2.0)\n",
      "Requirement already satisfied: prometheus-client in /usr/local/lib/python3.9/site-packages (from notebook>=4.4.1->widgetsnbextension~=3.5.0->ipywidgets) (0.9.0)\n",
      "Requirement already satisfied: pyzmq>=17 in /usr/local/lib/python3.9/site-packages (from notebook>=4.4.1->widgetsnbextension~=3.5.0->ipywidgets) (22.0.3)\n",
      "Requirement already satisfied: jinja2 in /usr/local/lib/python3.9/site-packages (from notebook>=4.4.1->widgetsnbextension~=3.5.0->ipywidgets) (2.11.3)\n",
      "Requirement already satisfied: nbconvert in /usr/local/lib/python3.9/site-packages (from notebook>=4.4.1->widgetsnbextension~=3.5.0->ipywidgets) (6.0.7)\n",
      "Requirement already satisfied: argon2-cffi in /usr/local/lib/python3.9/site-packages (from notebook>=4.4.1->widgetsnbextension~=3.5.0->ipywidgets) (20.1.0)\n",
      "Requirement already satisfied: terminado>=0.8.3 in /usr/local/lib/python3.9/site-packages (from notebook>=4.4.1->widgetsnbextension~=3.5.0->ipywidgets) (0.9.3)\n",
      "Requirement already satisfied: Send2Trash>=1.5.0 in /usr/local/lib/python3.9/site-packages (from notebook>=4.4.1->widgetsnbextension~=3.5.0->ipywidgets) (1.5.0)\n",
      "Requirement already satisfied: python-dateutil>=2.1 in /usr/local/lib/python3.9/site-packages (from jupyter-client->ipykernel>=4.5.1->ipywidgets) (2.8.1)\n",
      "Requirement already satisfied: cffi>=1.0.0 in /usr/local/lib/python3.9/site-packages (from argon2-cffi->notebook>=4.4.1->widgetsnbextension~=3.5.0->ipywidgets) (1.14.5)\n",
      "Requirement already satisfied: pycparser in /usr/local/lib/python3.9/site-packages (from cffi>=1.0.0->argon2-cffi->notebook>=4.4.1->widgetsnbextension~=3.5.0->ipywidgets) (2.20)\n",
      "Requirement already satisfied: MarkupSafe>=0.23 in /usr/local/lib/python3.9/site-packages (from jinja2->notebook>=4.4.1->widgetsnbextension~=3.5.0->ipywidgets) (1.1.1)\n",
      "Requirement already satisfied: bleach in /usr/local/lib/python3.9/site-packages (from nbconvert->notebook>=4.4.1->widgetsnbextension~=3.5.0->ipywidgets) (3.3.0)\n",
      "Requirement already satisfied: mistune<2,>=0.8.1 in /usr/local/lib/python3.9/site-packages (from nbconvert->notebook>=4.4.1->widgetsnbextension~=3.5.0->ipywidgets) (0.8.4)\n",
      "Requirement already satisfied: jupyterlab-pygments in /usr/local/lib/python3.9/site-packages (from nbconvert->notebook>=4.4.1->widgetsnbextension~=3.5.0->ipywidgets) (0.1.2)\n",
      "Requirement already satisfied: defusedxml in /usr/local/lib/python3.9/site-packages (from nbconvert->notebook>=4.4.1->widgetsnbextension~=3.5.0->ipywidgets) (0.7.1)\n",
      "Requirement already satisfied: nbclient<0.6.0,>=0.5.0 in /usr/local/lib/python3.9/site-packages (from nbconvert->notebook>=4.4.1->widgetsnbextension~=3.5.0->ipywidgets) (0.5.3)\n",
      "Requirement already satisfied: entrypoints>=0.2.2 in /usr/local/lib/python3.9/site-packages (from nbconvert->notebook>=4.4.1->widgetsnbextension~=3.5.0->ipywidgets) (0.3)\n",
      "Requirement already satisfied: testpath in /usr/local/lib/python3.9/site-packages (from nbconvert->notebook>=4.4.1->widgetsnbextension~=3.5.0->ipywidgets) (0.4.4)\n",
      "Requirement already satisfied: pandocfilters>=1.4.1 in /usr/local/lib/python3.9/site-packages (from nbconvert->notebook>=4.4.1->widgetsnbextension~=3.5.0->ipywidgets) (1.4.3)\n",
      "Requirement already satisfied: async-generator in /usr/local/lib/python3.9/site-packages (from nbclient<0.6.0,>=0.5.0->nbconvert->notebook>=4.4.1->widgetsnbextension~=3.5.0->ipywidgets) (1.10)\n",
      "Requirement already satisfied: nest-asyncio in /usr/local/lib/python3.9/site-packages (from nbclient<0.6.0,>=0.5.0->nbconvert->notebook>=4.4.1->widgetsnbextension~=3.5.0->ipywidgets) (1.5.1)\n",
      "Requirement already satisfied: webencodings in /usr/local/lib/python3.9/site-packages (from bleach->nbconvert->notebook>=4.4.1->widgetsnbextension~=3.5.0->ipywidgets) (0.5.1)\n",
      "Requirement already satisfied: packaging in /usr/local/lib/python3.9/site-packages (from bleach->nbconvert->notebook>=4.4.1->widgetsnbextension~=3.5.0->ipywidgets) (20.9)\n",
      "Requirement already satisfied: pyparsing>=2.0.2 in /usr/local/lib/python3.9/site-packages (from packaging->bleach->nbconvert->notebook>=4.4.1->widgetsnbextension~=3.5.0->ipywidgets) (2.4.7)\n",
      "\u001b[33mWARNING: You are using pip version 20.3.3; however, version 21.0.1 is available.\n",
      "You should consider upgrading via the '/usr/local/opt/python@3.9/bin/python3.9 -m pip install --upgrade pip' command.\u001b[0m\n"
     ]
    }
   ],
   "source": [
    "# Install a pip package in the current Jupyter kernel\n",
    "import sys\n",
    "!{sys.executable} -m pip install pandas\n",
    "!{sys.executable} -m pip install ipywidgets\n",
    "import pandas as pd"
   ]
  },
  {
   "cell_type": "code",
   "execution_count": 42,
   "id": "falling-grammar",
   "metadata": {},
   "outputs": [],
   "source": [
    "dataset_path = 'claim_data.tsv'\n",
    "claims_data = pd.read_csv(dataset_path, sep='\\t')\n",
    "pd.set_option('display.max_colwidth', None)"
   ]
  },
  {
   "cell_type": "code",
   "execution_count": 39,
   "id": "emerging-white",
   "metadata": {},
   "outputs": [
    {
     "data": {
      "text/html": [
       "<div>\n",
       "<style scoped>\n",
       "    .dataframe tbody tr th:only-of-type {\n",
       "        vertical-align: middle;\n",
       "    }\n",
       "\n",
       "    .dataframe tbody tr th {\n",
       "        vertical-align: top;\n",
       "    }\n",
       "\n",
       "    .dataframe thead th {\n",
       "        text-align: right;\n",
       "    }\n",
       "</style>\n",
       "<table border=\"1\" class=\"dataframe\">\n",
       "  <thead>\n",
       "    <tr style=\"text-align: right;\">\n",
       "      <th></th>\n",
       "      <th>claim</th>\n",
       "      <th>explanation</th>\n",
       "      <th>label</th>\n",
       "      <th>subjects</th>\n",
       "    </tr>\n",
       "  </thead>\n",
       "  <tbody>\n",
       "    <tr>\n",
       "      <th>0</th>\n",
       "      <td>\"The money the Clinton Foundation took from from foreign governments while Hillary Clinton was secretary of state \"\"is clearly illegal. … The Constitution says you can’t take this stuff.\"</td>\n",
       "      <td>\"Gingrich said the Clinton Foundation \"\"took money from from foreign governments while (Hillary Clinton) was secretary of state. It is clearly illegal. … The Constitution says you can’t take this stuff.\"\" A clause in the Constitution does prohibit U.S. officials such as former Secretary of State Hillary Clinton from receiving gifts, or emoluments, from foreign governments. But the gifts in this case were donations from foreign governments that went to the Clinton Foundation, not Hillary Clinton. She was not part of the foundation her husband founded while she was secretary of state. Does that violate the Constitution? Some libertarian-minded constitutional law experts say it very well could. Others are skeptical. What’s clear is there is room for ambiguity, and the donations are anything but \"\"clearly illegal.\"\" The reality is this a hazy part of U.S. constitutional law.</td>\n",
       "      <td>false</td>\n",
       "      <td>Foreign Policy, PunditFact, Newt Gingrich,</td>\n",
       "    </tr>\n",
       "    <tr>\n",
       "      <th>1</th>\n",
       "      <td>Annual Mammograms May Have More False-Positives</td>\n",
       "      <td>This article reports on the results of a study of nearly 170,000 women who had screening mammograms beginning between age 40-59. The study found that over ten years of screening mammograms, over half of the women will experience a false-positive recall for additional mammography. In addition, 7%-9% of the women will have a biopsy for a suspicious lump which is not cancerous. Both of those percentages decrease if the woman is screened every other year rather than every year. Even with biennial mammography, 41% of women will experience a recall over 10 years of mammography. The study’s Principal Investigator emphasized that “in most cases, a recall doesn’t mean you have cancer.”  She hoped this knowledge would reduce the anxiety of women who are recalled. The story never explained the size of the decrease in the number of false positives between annual (61.3%) and biennial screening (41.6%). Our first two reviewers were a researcher who specializes in health decisions and a breast cancer survivor trained in evidence by the Natiional Breast Cancer Coalition’s Project LEAD. This study is valuable because it helps to quantify and compare the harms of annual and biennial screening, specifically the number of false positives and the number of unnecessary biopsies. Prior to this study, estimates of false positive screening mammography rates varied widely. The critical question is whether you can do less frequent screening, subject women to fewer harms and get similar results in terms of detection of “early stage” cancer. This study’s data seems to suggest that answer is yes.</td>\n",
       "      <td>mixture</td>\n",
       "      <td>Screening,WebMD,women's health</td>\n",
       "    </tr>\n",
       "    <tr>\n",
       "      <th>2</th>\n",
       "      <td>SBRT Offers Prostate Cancer Patients High Cancer Control and Low Toxicity in Fewer Treatments</td>\n",
       "      <td>This news release describes five-year outcomes for 309 men with early-stage prostate cancer who received stereotactic body radiation therapy (SBRT), which delivers targeted doses of radiation cheaper and faster than the prevailing radiation therapy treatment for prostate cancer. The study measured the rates of severe injury to surrounding tissues and disease-free survival. The news release said it’s the first large, multi-institutional study of this technology in prostate cancer with long-term follow-up, involving patients at 21 community, regional, and academic hospitals across the U.S. The release does a good job of quantifying the evidence but could have helped readers better understand the implications of the data by giving cost and safety comparisons with other radiation treatment, and by discussing limitations related to using a historical control group (rather than a contemporaneous control group) which introduces potential for bias. The release is based on a study presented at the American Society for Radiation Oncology (ASTRO) annual conference. The study abstract can be found on page 4 of this document. Prostate cancer is a commonly diagnosed condition in men that is associated with aging. Many patients don’t realize that prostate cancer is not a uniformly fatal disease. For men with low risk disease, active surveillance without treatment is a viable option. Even for men with higher risk disease where treatment is warranted, one needs to follow patients for 10-15 years to identify a survival benefit from treatment. This is useful context to keep in mind when examining this new study of patients with low and intermediate risk prostate cancer. The results present a rosy picture of SBRT, in terms of both benefits and harms. However, without a contemporaneous control group, such as those receiving intensity-modulated radiation therapy (IMRT) or even active surveillance, one cannot be sure that these favorable results are due to the treatment itself or the patients who were selected for treatment. Comparing results of individuals who are likely to live a long time with their disease to those treated at some point in the past is rife with problems and such studies, called case series, are deemed to be low on the ladder of scientific rigor. Even the low rate of complications, while very reassuring, still would benefit from a comparison to patients treated with other forms of radiation at the same time period.</td>\n",
       "      <td>mixture</td>\n",
       "      <td>Association/Society news release,Cancer</td>\n",
       "    </tr>\n",
       "    <tr>\n",
       "      <th>3</th>\n",
       "      <td>Study: Vaccine for Breast, Ovarian Cancer Has Potential</td>\n",
       "      <td>While the story does many things well, the overall framing of the story is that the vaccine “shows promise,” when the evidence actually points in the other direction. Because only one patient in the study remains cancer free and because that patient may very well have benefited from an earlier cancer vaccine and other complicating factors, we question the decision to write this story in the first place. Right now, there more than 10,000 cancer-related clinical trials recruiting patients. Cancer has foiled scientists repeatedly with treatments that initially seemed promising in the laboratory or in a very small group of people and later proved unworkable on a larger scale. It’s a difficult task — but a crucial one — for reporters to ask tough questions of the evidence and a wide range of sources before deciding whether one of these thousands of experimental treatment options merits coverage.</td>\n",
       "      <td>true</td>\n",
       "      <td>Cancer,WebMD,women's health</td>\n",
       "    </tr>\n",
       "    <tr>\n",
       "      <th>4</th>\n",
       "      <td>Some appendicitis cases may not require ’emergency’ surgery</td>\n",
       "      <td>We really don’t understand why only a handful of mainstream news organizations reported this story. (At least in what we found.) The most common emergency surgery in the world. Rushing to emergency surgery may not carry any benefit. Waiting a few hours may be safer and less expensive. Why is that not a story? We applaud USA Today for finding time and space – and clearly it didn’t need to free up much space to do a good job telling the story. The story explains that as many as 300,000 appendectomies are done each year in the US. That figure alone explains why this is an important study to report.</td>\n",
       "      <td>true</td>\n",
       "      <td></td>\n",
       "    </tr>\n",
       "  </tbody>\n",
       "</table>\n",
       "</div>"
      ],
      "text/plain": [
       "                                                                                                                                                                                         claim  \\\n",
       "0  \"The money the Clinton Foundation took from from foreign governments while Hillary Clinton was secretary of state \"\"is clearly illegal. … The Constitution says you can’t take this stuff.\"   \n",
       "1                                                                                                                                              Annual Mammograms May Have More False-Positives   \n",
       "2                                                                                                SBRT Offers Prostate Cancer Patients High Cancer Control and Low Toxicity in Fewer Treatments   \n",
       "3                                                                                                                                      Study: Vaccine for Breast, Ovarian Cancer Has Potential   \n",
       "4                                                                                                                                  Some appendicitis cases may not require ’emergency’ surgery   \n",
       "\n",
       "                                                                                                                                                                                                                                                                                                                                                                                                                                                                                                                                                                                                                                                                                                                                                                                                                                                                                                                                                                                                                                                                                                                                                                                                                                                                                                                                                                                                                                                                                                                                                                                                                                                                                                                                                                                                                                                                                                                                                                                                                                                                                                                                                                                                                                                                                                                                                                                                                                                                                                                                               explanation  \\\n",
       "0                                                                                                                                                                                                                                                                                                                                                                                                                                                                                                                                                                                                                                                                                                                                                                                                                                                                                                                                                                                                                                                                                                                                                                                                                                                                                                                                                                                                                                                                                                                                                                                                                                     \"Gingrich said the Clinton Foundation \"\"took money from from foreign governments while (Hillary Clinton) was secretary of state. It is clearly illegal. … The Constitution says you can’t take this stuff.\"\" A clause in the Constitution does prohibit U.S. officials such as former Secretary of State Hillary Clinton from receiving gifts, or emoluments, from foreign governments. But the gifts in this case were donations from foreign governments that went to the Clinton Foundation, not Hillary Clinton. She was not part of the foundation her husband founded while she was secretary of state. Does that violate the Constitution? Some libertarian-minded constitutional law experts say it very well could. Others are skeptical. What’s clear is there is room for ambiguity, and the donations are anything but \"\"clearly illegal.\"\" The reality is this a hazy part of U.S. constitutional law.    \n",
       "1                                                                                                                                                                                                                                                                                                                                                                                                                                                                                                                                                                                                                                                                                                                                                                                                                                                                                                This article reports on the results of a study of nearly 170,000 women who had screening mammograms beginning between age 40-59. The study found that over ten years of screening mammograms, over half of the women will experience a false-positive recall for additional mammography. In addition, 7%-9% of the women will have a biopsy for a suspicious lump which is not cancerous. Both of those percentages decrease if the woman is screened every other year rather than every year. Even with biennial mammography, 41% of women will experience a recall over 10 years of mammography. The study’s Principal Investigator emphasized that “in most cases, a recall doesn’t mean you have cancer.”  She hoped this knowledge would reduce the anxiety of women who are recalled. The story never explained the size of the decrease in the number of false positives between annual (61.3%) and biennial screening (41.6%). Our first two reviewers were a researcher who specializes in health decisions and a breast cancer survivor trained in evidence by the Natiional Breast Cancer Coalition’s Project LEAD. This study is valuable because it helps to quantify and compare the harms of annual and biennial screening, specifically the number of false positives and the number of unnecessary biopsies. Prior to this study, estimates of false positive screening mammography rates varied widely. The critical question is whether you can do less frequent screening, subject women to fewer harms and get similar results in terms of detection of “early stage” cancer. This study’s data seems to suggest that answer is yes.   \n",
       "2  This news release describes five-year outcomes for 309 men with early-stage prostate cancer who received stereotactic body radiation therapy (SBRT), which delivers targeted doses of radiation cheaper and faster than the prevailing radiation therapy treatment for prostate cancer. The study measured the rates of severe injury to surrounding tissues and disease-free survival. The news release said it’s the first large, multi-institutional study of this technology in prostate cancer with long-term follow-up, involving patients at 21 community, regional, and academic hospitals across the U.S. The release does a good job of quantifying the evidence but could have helped readers better understand the implications of the data by giving cost and safety comparisons with other radiation treatment, and by discussing limitations related to using a historical control group (rather than a contemporaneous control group) which introduces potential for bias. The release is based on a study presented at the American Society for Radiation Oncology (ASTRO) annual conference. The study abstract can be found on page 4 of this document. Prostate cancer is a commonly diagnosed condition in men that is associated with aging. Many patients don’t realize that prostate cancer is not a uniformly fatal disease. For men with low risk disease, active surveillance without treatment is a viable option. Even for men with higher risk disease where treatment is warranted, one needs to follow patients for 10-15 years to identify a survival benefit from treatment. This is useful context to keep in mind when examining this new study of patients with low and intermediate risk prostate cancer. The results present a rosy picture of SBRT, in terms of both benefits and harms. However, without a contemporaneous control group, such as those receiving intensity-modulated radiation therapy (IMRT) or even active surveillance, one cannot be sure that these favorable results are due to the treatment itself or the patients who were selected for treatment. Comparing results of individuals who are likely to live a long time with their disease to those treated at some point in the past is rife with problems and such studies, called case series, are deemed to be low on the ladder of scientific rigor. Even the low rate of complications, while very reassuring, still would benefit from a comparison to patients treated with other forms of radiation at the same time period.   \n",
       "3                                                                                                                                                                                                                                                                                                                                                                                                                                                                                                                                                                                                                                                                                                                                                                                                                                                                                                                                                                                                                                                                                                                                                                                                                                                                                                                                                                                                                                                                                                                                                                                                                  While the story does many things well, the overall framing of the story is that the vaccine “shows promise,” when the evidence actually points in the other direction. Because only one patient in the study remains cancer free and because that patient may very well have benefited from an earlier cancer vaccine and other complicating factors, we question the decision to write this story in the first place. Right now, there more than 10,000 cancer-related clinical trials recruiting patients. Cancer has foiled scientists repeatedly with treatments that initially seemed promising in the laboratory or in a very small group of people and later proved unworkable on a larger scale. It’s a difficult task — but a crucial one — for reporters to ask tough questions of the evidence and a wide range of sources before deciding whether one of these thousands of experimental treatment options merits coverage.   \n",
       "4                                                                                                                                                                                                                                                                                                                                                                                                                                                                                                                                                                                                                                                                                                                                                                                                                                                                                                                                                                                                                                                                                                                                                                                                                                                                                                                                                                                                                                                                                                                                                                                                                                                                                                                                                                                                                                                                                                                               We really don’t understand why only a handful of mainstream news organizations reported this story. (At least in what we found.) The most common emergency surgery in the world. Rushing to emergency surgery may not carry any benefit. Waiting a few hours may be safer and less expensive. Why is that not a story? We applaud USA Today for finding time and space – and clearly it didn’t need to free up much space to do a good job telling the story. The story explains that as many as 300,000 appendectomies are done each year in the US. That figure alone explains why this is an important study to report.   \n",
       "\n",
       "     label                                     subjects  \n",
       "0    false  Foreign Policy, PunditFact, Newt Gingrich,   \n",
       "1  mixture               Screening,WebMD,women's health  \n",
       "2  mixture      Association/Society news release,Cancer  \n",
       "3     true                  Cancer,WebMD,women's health  \n",
       "4     true                                               "
      ]
     },
     "execution_count": 39,
     "metadata": {},
     "output_type": "execute_result"
    }
   ],
   "source": [
    "filtered = claims_data[['claim', 'explanation', 'label', 'subjects']]\n",
    "filtered.head()"
   ]
  },
  {
   "cell_type": "code",
   "execution_count": 22,
   "id": "colonial-globe",
   "metadata": {},
   "outputs": [],
   "source": [
    "text = \"\"\"\n",
    "“When we think of Amish people we think of a simple life, free of modern advancements.” So begins a viral article, called “Why the Amish Don’t Get Sick,” which seeks to prove that Americans would be healthier if they lived more like the midwestern Anabaptists. The piece appears to have its roots in a site called LA Healthy Living, but it has recently bounced its way across the naturopathic Internet, ending up on the domains of quack doctors and, more recently, on a hippie news site called Earth We Are One, through which it landed in my Facebook feed.\n",
    "Though it masquerades as “what we can learn from them”-style journalism, the piece is basically just catnip for the anti-GMO and anti-vax crowds. And sadly, it appears to have already spread its nonsense far and wide.\n",
    "“Most of us view [the Amish] as foolish for not using the advantages of convenient technology,” it reads, “and even look down on them for not conforming to the norms of mainstream society.” (Yeah, you know how people are always like: “iPads are so great; the Amish are a bunch of idiots for not using them.”)\n",
    "“But if we look at the statistics,” it continues, “the Amish are much healthier than the rest of America. They virtually have no cancer, no autism, and rarely get sick. What are they doing different from the rest of America?”\n",
    "The first tip, according to this article, is not getting vaccinated: “In spite of constant pressure from the government, the Amish still refuse to vaccinate.”\n",
    "Nope. Most Amish parents vaccinate, but even then, the relatively low overall vaccination rate in the community fueled a massive measles outbreak in Ohio’s Amish country earlier this year. The incident proved something that Amish and “English” parents alike should know by now: Vaccines don’t cause autism, but not getting a vaccine can cause outbreaks of nasty, 19th-century diseases.\n",
    "The rest of the items in the listicle aren’t as terrible. Being physically active, not getting too stressed out, and eating a lot of vegetables are all “Amish” habits the article says other Americans would do well to adopt. However, its suggestion that Amish food contains no GMOs is bunk—some Amish farms do use genetically modified crops for financial and efficiency reasons. Besides, there's no evidence that genetically modified foods are detrimental to human health in any way.\n",
    "But it’s the very premise of the article that’s bizarre. If you’re going to hype a community as “never getting sick,” use a place that’s actually remarkably healthy, like Minneapolis. Not only do Amish people get sick, they get some of the worst diseases in the world.\n",
    "Almost all of the roughly 250,000 Amish people in the U.S. can trace their roots back to a few hundred Swiss farmers who immigrated to Pennsylvania in the 18th century. The centuries of isolation and intermarriage has forged tight-knit communities, sure, but it has also caused widespread genetic problems.\n",
    "One example is Maple Syrup Urine Disease—so named for the smell of the sufferer’s urine and ear wax—which causes the body to be unable to metabolize protein. Most people with MSUD experience vomiting, seizures, and brain damage starting in infancy, and they die early.\n",
    "Only one out of every 180,000 babies in the general population is born with the disease, but it strikes one out of every 358 Amish babies. Treatment usually involves avoiding meat and dairy entirely—which is tough to manage in the “all-natural” Amish lifestyle. Liver transplants are another option, but few Amish can afford them.\n",
    "And that’s just one of the many virtually unheard-of genetic diseases that plague the Plain People.\n",
    "Granted, one study found that the Amish do have a lower incidence of seven types of cancer—mostly because they don’t drink, smoke, or have unprotected sex with lots of different partners. They also reduce their risk of skin cancer by wearing wide-brimmed hats and covering their bodies from ankle to wrist. But you don’t see “LA Healthy Living” trumpeting the health perks of bonnets.\n",
    "It’s tempting to brush this kind of thing off as a fringe piece of “content” that no one will read, but the version of the story on Earth We Are One garnered nearly 68,000 pageviews, according to its own counter. That site also has more than 600,000 fans on Facebook. Anyone with an audience that big who uses an insular religious sect to prop up their dangerous pseudo-science should be meidung—shunned.\n",
    "\"\"\""
   ]
  },
  {
   "cell_type": "code",
   "execution_count": 23,
   "id": "voluntary-atlantic",
   "metadata": {},
   "outputs": [
    {
     "name": "stdout",
     "output_type": "stream",
     "text": [
      "Requirement already satisfied: nltk in /usr/local/lib/python3.9/site-packages (3.5)\n",
      "Requirement already satisfied: click in /usr/local/lib/python3.9/site-packages (from nltk) (7.1.2)\n",
      "Requirement already satisfied: tqdm in /usr/local/lib/python3.9/site-packages (from nltk) (4.59.0)\n",
      "Requirement already satisfied: joblib in /usr/local/lib/python3.9/site-packages (from nltk) (1.0.1)\n",
      "Requirement already satisfied: regex in /usr/local/lib/python3.9/site-packages (from nltk) (2021.3.17)\n",
      "\u001b[33mWARNING: You are using pip version 20.3.3; however, version 21.0.1 is available.\n",
      "You should consider upgrading via the '/usr/local/opt/python@3.9/bin/python3.9 -m pip install --upgrade pip' command.\u001b[0m\n"
     ]
    }
   ],
   "source": [
    "!{sys.executable} -m pip install nltk\n",
    "from nltk import sent_tokenize"
   ]
  },
  {
   "cell_type": "code",
   "execution_count": 24,
   "id": "adolescent-offering",
   "metadata": {},
   "outputs": [],
   "source": [
    "sentences = sent_tokenize(text)"
   ]
  },
  {
   "cell_type": "code",
   "execution_count": 25,
   "id": "variable-wednesday",
   "metadata": {},
   "outputs": [
    {
     "name": "stdout",
     "output_type": "stream",
     "text": [
      "Requirement already satisfied: scipy in /usr/local/lib/python3.9/site-packages (1.6.1)\n",
      "Requirement already satisfied: numpy>=1.16.5 in /usr/local/lib/python3.9/site-packages (from scipy) (1.20.1)\n",
      "\u001b[33mWARNING: You are using pip version 20.3.3; however, version 21.0.1 is available.\n",
      "You should consider upgrading via the '/usr/local/opt/python@3.9/bin/python3.9 -m pip install --upgrade pip' command.\u001b[0m\n",
      "Requirement already satisfied: sentence-transformers in /usr/local/lib/python3.9/site-packages (1.0.2)\n",
      "Requirement already satisfied: nltk in /usr/local/lib/python3.9/site-packages (from sentence-transformers) (3.5)\n",
      "Requirement already satisfied: tqdm in /usr/local/lib/python3.9/site-packages (from sentence-transformers) (4.59.0)\n",
      "Requirement already satisfied: torch>=1.6.0 in /usr/local/lib/python3.9/site-packages (from sentence-transformers) (1.8.0)\n",
      "Requirement already satisfied: scikit-learn in /usr/local/lib/python3.9/site-packages (from sentence-transformers) (0.24.1)\n",
      "Requirement already satisfied: transformers<5.0.0,>=3.1.0 in /usr/local/lib/python3.9/site-packages (from sentence-transformers) (4.4.2)\n",
      "Requirement already satisfied: scipy in /usr/local/lib/python3.9/site-packages (from sentence-transformers) (1.6.1)\n",
      "Requirement already satisfied: sentencepiece in /usr/local/lib/python3.9/site-packages (from sentence-transformers) (0.1.95)\n",
      "Requirement already satisfied: numpy in /usr/local/lib/python3.9/site-packages (from sentence-transformers) (1.20.1)\n",
      "Requirement already satisfied: typing-extensions in /usr/local/lib/python3.9/site-packages (from torch>=1.6.0->sentence-transformers) (3.7.4.3)\n",
      "Requirement already satisfied: regex!=2019.12.17 in /usr/local/lib/python3.9/site-packages (from transformers<5.0.0,>=3.1.0->sentence-transformers) (2021.3.17)\n",
      "Requirement already satisfied: requests in /usr/local/lib/python3.9/site-packages (from transformers<5.0.0,>=3.1.0->sentence-transformers) (2.25.1)\n",
      "Requirement already satisfied: filelock in /usr/local/lib/python3.9/site-packages (from transformers<5.0.0,>=3.1.0->sentence-transformers) (3.0.12)\n",
      "Requirement already satisfied: sacremoses in /usr/local/lib/python3.9/site-packages (from transformers<5.0.0,>=3.1.0->sentence-transformers) (0.0.43)\n",
      "Requirement already satisfied: tokenizers<0.11,>=0.10.1 in /usr/local/lib/python3.9/site-packages (from transformers<5.0.0,>=3.1.0->sentence-transformers) (0.10.1)\n",
      "Requirement already satisfied: packaging in /usr/local/lib/python3.9/site-packages (from transformers<5.0.0,>=3.1.0->sentence-transformers) (20.9)\n",
      "Requirement already satisfied: joblib in /usr/local/lib/python3.9/site-packages (from nltk->sentence-transformers) (1.0.1)\n",
      "Requirement already satisfied: click in /usr/local/lib/python3.9/site-packages (from nltk->sentence-transformers) (7.1.2)\n",
      "Requirement already satisfied: pyparsing>=2.0.2 in /usr/local/lib/python3.9/site-packages (from packaging->transformers<5.0.0,>=3.1.0->sentence-transformers) (2.4.7)\n",
      "Requirement already satisfied: chardet<5,>=3.0.2 in /usr/local/lib/python3.9/site-packages (from requests->transformers<5.0.0,>=3.1.0->sentence-transformers) (4.0.0)\n",
      "Requirement already satisfied: urllib3<1.27,>=1.21.1 in /usr/local/lib/python3.9/site-packages (from requests->transformers<5.0.0,>=3.1.0->sentence-transformers) (1.26.3)\n",
      "Requirement already satisfied: certifi>=2017.4.17 in /usr/local/lib/python3.9/site-packages (from requests->transformers<5.0.0,>=3.1.0->sentence-transformers) (2020.12.5)\n",
      "Requirement already satisfied: idna<3,>=2.5 in /usr/local/lib/python3.9/site-packages (from requests->transformers<5.0.0,>=3.1.0->sentence-transformers) (2.10)\n",
      "Requirement already satisfied: six in /usr/local/lib/python3.9/site-packages (from sacremoses->transformers<5.0.0,>=3.1.0->sentence-transformers) (1.15.0)\n",
      "Requirement already satisfied: threadpoolctl>=2.0.0 in /usr/local/lib/python3.9/site-packages (from scikit-learn->sentence-transformers) (2.1.0)\n",
      "\u001b[33mWARNING: You are using pip version 20.3.3; however, version 21.0.1 is available.\n",
      "You should consider upgrading via the '/usr/local/opt/python@3.9/bin/python3.9 -m pip install --upgrade pip' command.\u001b[0m\n"
     ]
    }
   ],
   "source": [
    "!{sys.executable} -m pip install scipy\n",
    "!{sys.executable} -m pip install sentence-transformers\n",
    "import scipy\n",
    "from sentence_transformers import SentenceTransformer\n",
    "model = SentenceTransformer('bert-base-nli-mean-tokens')"
   ]
  },
  {
   "cell_type": "code",
   "execution_count": 33,
   "id": "hydraulic-india",
   "metadata": {},
   "outputs": [],
   "source": [
    "checked_claims_input = filtered['claim'][:1000].tolist()"
   ]
  },
  {
   "cell_type": "code",
   "execution_count": 34,
   "id": "monthly-mobile",
   "metadata": {},
   "outputs": [],
   "source": [
    "checked_claims_embeddings = model.encode(checked_claims_input)"
   ]
  },
  {
   "cell_type": "code",
   "execution_count": 44,
   "id": "committed-appointment",
   "metadata": {},
   "outputs": [],
   "source": [
    "queries = ['Cancer Activist Early Testing Marker']\n",
    "query_embeddings = model.encode(queries)"
   ]
  },
  {
   "cell_type": "code",
   "execution_count": 45,
   "id": "hawaiian-tournament",
   "metadata": {},
   "outputs": [
    {
     "name": "stdout",
     "output_type": "stream",
     "text": [
      "\n",
      "\n",
      "======================\n",
      "\n",
      "\n",
      "Query: Cancer Activist Early Testing Marker\n",
      "\n",
      "Top 5 most similar sentences in corpus:\n",
      "Cancer Activist Sounds Alarm For Early Testing For Genetic Marker (Score: 0.7973)\n"
     ]
    }
   ],
   "source": [
    "closest_n = 1\n",
    "for query, query_embedding in zip(queries, query_embeddings):\n",
    "    distances = scipy.spatial.distance.cdist([query_embedding], checked_claims_embeddings, \"cosine\")[0]\n",
    "\n",
    "    results = zip(range(len(distances)), distances)\n",
    "    results = sorted(results, key=lambda x: x[1])\n",
    "\n",
    "    print(\"\\n\\n======================\\n\\n\")\n",
    "    print(\"Query:\", query)\n",
    "    print(\"\\nTop 5 most similar sentences in corpus:\")\n",
    "\n",
    "    for idx, distance in results[0:closest_n]:\n",
    "        print(checked_claims_input[idx].strip(), \"(Score: %.4f)\" % (1-distance))"
   ]
  },
  {
   "cell_type": "code",
   "execution_count": null,
   "id": "atmospheric-mouth",
   "metadata": {},
   "outputs": [],
   "source": []
  }
 ],
 "metadata": {
  "kernelspec": {
   "display_name": "Python 3",
   "language": "python",
   "name": "python3"
  },
  "language_info": {
   "codemirror_mode": {
    "name": "ipython",
    "version": 3
   },
   "file_extension": ".py",
   "mimetype": "text/x-python",
   "name": "python",
   "nbconvert_exporter": "python",
   "pygments_lexer": "ipython3",
   "version": "3.9.1"
  }
 },
 "nbformat": 4,
 "nbformat_minor": 5
}
